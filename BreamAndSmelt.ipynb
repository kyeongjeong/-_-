{
  "nbformat": 4,
  "nbformat_minor": 0,
  "metadata": {
    "colab": {
      "private_outputs": true,
      "provenance": [],
      "authorship_tag": "ABX9TyMad+6kVWGnqjj1xzs5CRpe",
      "include_colab_link": true
    },
    "kernelspec": {
      "name": "python3",
      "display_name": "Python 3"
    },
    "language_info": {
      "name": "python"
    }
  },
  "cells": [
    {
      "cell_type": "markdown",
      "metadata": {
        "id": "view-in-github",
        "colab_type": "text"
      },
      "source": [
        "<a href=\"https://colab.research.google.com/github/kyeongjeong/Self-Study_in_Machine-Learning_Deep-Learning/blob/main/BreamAndSmelt.ipynb\" target=\"_parent\"><img src=\"https://colab.research.google.com/assets/colab-badge.svg\" alt=\"Open In Colab\"/></a>"
      ]
    },
    {
      "cell_type": "code",
      "execution_count": null,
      "metadata": {
        "id": "0N9iO9inU3_r"
      },
      "outputs": [],
      "source": [
        "bream_length = [25.4, 26.3, 26.5, 29.0, 29.0, 29.7, 29.7, 30.0, 30.0, 30.7, 31.0, 31.0,\n",
        "                31.5, 32.0, 32.0, 32.0, 33.0, 33.0, 33.5, 33.5, 34.0, 34.0, 34.5, 35.0,\n",
        "                35.0, 35.0, 35.0, 36.0, 36.0, 37.0, 38.5, 38.5, 39.5, 41.0, 41.0]\n",
        "bream_weight = [242.0, 290.0, 340.0, 363.0, 430.0, 450.0, 500.0, 390.0, 450.0, 500.0, 475.0, 500.0,\n",
        "                500.0, 340.0, 600.0, 600.0, 700.0, 700.0, 610.0, 650.0, 575.0, 685.0, 620.0, 680.0,\n",
        "                700.0, 725.0, 720.0, 714.0, 850.0, 1000.0, 920.0, 955.0, 925.0, 975.0, 950.0]\n",
        "\n",
        "smelt_length = [9.8, 10.5, 10.6, 11.0, 11.2, 11.3, 11.8, 11.8, 12.0, 12.2, 12.4, 13.0, 14.3, 15.0]\n",
        "smelt_weight = [6.7, 7.5, 7.0, 9.7, 9.8, 8.7, 10.0, 9.9, 9.8, 12.2, 13.4, 12.2, 19.7, 19.9]\n",
        "\n",
        "#import matplotlib.pyplot as plt # 맷플롯립의 pyplot 함수를 plt로 줄여서 사용\n",
        "#plt.scatter(bream_length, bream_weight)\n",
        "#plt.scatter(smelt_length, smelt_weight)\n",
        "#plt.xlabel('length') # x축 : 길이\n",
        "#plt.ylabel('weight') # y축 : 무게\n",
        "#plt.show() # 그래프를 화면에 출력\n",
        "\n",
        "length = bream_length + smelt_length\n",
        "weight = bream_weight + smelt_weight\n",
        "\n",
        "fish_data = [[l, w] for l, w in zip(length, weight)] # zip() : 나열된 리스트 각각에서 하나씩 원소를 꺼내 반환\n",
        "#print(fish_data)\n",
        "fish_target = [1] * 35 + [0] * 14 # 1이 35개, 0이 14개인 리스트(1은 도미, 0은 빙어)\n",
        "#print(fish_target)\n",
        "\n",
        "from sklearn.neighbors import KNeighborsClassifier # from~import : 패키지나 모듈 전체 임포트 x, 특정 클래스만 임포트 가능\n",
        "#kn = KNeighborsClassifier() # 임포트한 KNeighborsClassifier 클래스의 객체 생성\n",
        "#kn.fit(fish_data, fish_target) # fit : 기준 학습(훈련)\n",
        "#kn.score(fish_data, fish_target) # score : 모델 평가\n",
        "\n",
        "#kn.predict([[30, 600]]) # predict : 새로운 데이터의 정답 예측\n",
        "#print(kn._fit_X) # fish_data\n",
        "#print(kn._y) # fish_target\n",
        "\n",
        "kn49 = KNeighborsClassifier(n_neighbors=49) # 참고 데이터를 49개로 설정 -> 49개 중 도미가 35개로 다수이므로, 어떠한 데이터를 넣어도 무조건 도미로 예측하게 됨\n",
        "kn49.fit(fish_data, fish_target)\n",
        "kn49.score(fish_data, fish_target)\n",
        "# 결과 : 0.7142857142857143 (49개 데이터 중 35개만 맞춤(도미가 35개이므로 도미 데이터만 옳게 판단함))"
      ]
    }
  ]
}